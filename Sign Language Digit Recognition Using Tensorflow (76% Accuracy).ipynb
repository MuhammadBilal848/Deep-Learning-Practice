{
  "nbformat": 4,
  "nbformat_minor": 0,
  "metadata": {
    "colab": {
      "provenance": [],
      "mount_file_id": "1BURLL6fdqQsW6niwIYAxGtGvvgNLdQUk",
      "authorship_tag": "ABX9TyOZnL2t0VzfHnlTSE366Nbr",
      "include_colab_link": true
    },
    "kernelspec": {
      "name": "python3",
      "display_name": "Python 3"
    },
    "language_info": {
      "name": "python"
    }
  },
  "cells": [
    {
      "cell_type": "markdown",
      "metadata": {
        "id": "view-in-github",
        "colab_type": "text"
      },
      "source": [
        "<a href=\"https://colab.research.google.com/github/MuhammadBilal848/Deep-Learning-Practice/blob/main/Sign%20Language%20Digit%20Recognition%20Using%20Tensorflow%20(76%25%20Accuracy).ipynb\" target=\"_parent\"><img src=\"https://colab.research.google.com/assets/colab-badge.svg\" alt=\"Open In Colab\"/></a>"
      ]
    },
    {
      "cell_type": "code",
      "execution_count": 100,
      "metadata": {
        "id": "nuaXqhratOLV"
      },
      "outputs": [],
      "source": [
        "import numpy as np\n",
        "import pandas as pd\n",
        "import sklearn\n",
        "from sklearn.model_selection import train_test_split\n",
        "import tensorflow as tf\n",
        "from tensorflow import keras\n",
        "import matplotlib.pyplot as plt\n",
        "import cv2 as cv\n",
        "from keras.optimizers import Adam"
      ]
    },
    {
      "cell_type": "code",
      "source": [
        "x = np.load('/content/drive/MyDrive/Colab Notebooks/datasets/Sign-language-digits-dataset/X.npy')\n",
        "y = np.load('/content/drive/MyDrive/Colab Notebooks/datasets/Sign-language-digits-dataset/Y.npy')"
      ],
      "metadata": {
        "id": "NRHQIE1Htboo"
      },
      "execution_count": 76,
      "outputs": []
    },
    {
      "cell_type": "code",
      "source": [
        "x.shape , y.shape"
      ],
      "metadata": {
        "colab": {
          "base_uri": "https://localhost:8080/"
        },
        "id": "xhbilC9vJsOk",
        "outputId": "4e0cf5e3-027a-45e4-a0cf-79cdbcd939f6"
      },
      "execution_count": 79,
      "outputs": [
        {
          "output_type": "execute_result",
          "data": {
            "text/plain": [
              "((2062, 64, 64), (2062, 10))"
            ]
          },
          "metadata": {},
          "execution_count": 79
        }
      ]
    },
    {
      "cell_type": "code",
      "source": [
        "plt.imshow(x[5]),y[5]"
      ],
      "metadata": {
        "id": "iQSM7bsEJr0J"
      },
      "execution_count": null,
      "outputs": []
    },
    {
      "cell_type": "code",
      "source": [
        "xtrain , xtest,ytrain ,ytest = train_test_split(x,y,test_size = 0.2)"
      ],
      "metadata": {
        "id": "xhoACxeIJrid"
      },
      "execution_count": 83,
      "outputs": []
    },
    {
      "cell_type": "code",
      "source": [
        "xtrain = xtrain/255\n",
        "xtest = xtest/255"
      ],
      "metadata": {
        "id": "6zRRpb_tLbIO"
      },
      "execution_count": 88,
      "outputs": []
    },
    {
      "cell_type": "code",
      "source": [
        "xtrain.shape,xtest.shape , ytrain.shape ,ytest.shape"
      ],
      "metadata": {
        "colab": {
          "base_uri": "https://localhost:8080/"
        },
        "id": "94xnEWtH3suz",
        "outputId": "66568ed2-9446-47cb-d592-c7efc11a1157"
      },
      "execution_count": 86,
      "outputs": [
        {
          "output_type": "execute_result",
          "data": {
            "text/plain": [
              "((1649, 64, 64), (413, 64, 64), (1649, 10), (413, 10))"
            ]
          },
          "metadata": {},
          "execution_count": 86
        }
      ]
    },
    {
      "cell_type": "code",
      "source": [
        "xtrain = xtrain.reshape(-1,64,64,1)\n",
        "xtest = xtest.reshape(-1,64,64,1)"
      ],
      "metadata": {
        "id": "niVjhlR3M1dv"
      },
      "execution_count": 103,
      "outputs": []
    },
    {
      "cell_type": "code",
      "source": [
        "model = keras.Sequential([\n",
        "      keras.layers.Conv2D(16,3,activation = 'relu'),\n",
        "      keras.layers.MaxPool2D(2,2),\n",
        "      keras.layers.Dropout(0.5),\n",
        "      keras.layers.Conv2D(32,3,activation = 'relu'),\n",
        "      keras.layers.MaxPool2D(2,2),\n",
        "      keras.layers.Dropout(0.3),\n",
        "      keras.layers.Conv2D(64,3,activation = 'relu'),\n",
        "      keras.layers.MaxPool2D(2,2),\n",
        "      keras.layers.Dropout(0.4),\n",
        "      keras.layers.Flatten(),\n",
        "      keras.layers.Dense(100,activation = 'relu'),\n",
        "      keras.layers.Dense(10,activation = 'softmax')\n",
        "])\n",
        "optimizer = Adam(lr=0.0001, beta_1 = 0.9, beta_2 = 0.99)\n",
        "model.compile(optimizer = optimizer ,loss = 'categorical_crossentropy',metrics = 'accuracy')\n",
        "model.fit(xtrain , ytrain , epochs=100)"
      ],
      "metadata": {
        "colab": {
          "base_uri": "https://localhost:8080/"
        },
        "id": "DIX181nOTmHG",
        "outputId": "046fb42c-9ff4-4393-b833-994290bff89f"
      },
      "execution_count": 105,
      "outputs": [
        {
          "output_type": "stream",
          "name": "stdout",
          "text": [
            "Epoch 1/100\n",
            "52/52 [==============================] - 8s 139ms/step - loss: 2.3027 - accuracy: 0.0964\n",
            "Epoch 2/100\n",
            "52/52 [==============================] - 6s 110ms/step - loss: 2.3026 - accuracy: 0.1049\n",
            "Epoch 3/100\n",
            "52/52 [==============================] - 8s 148ms/step - loss: 2.3025 - accuracy: 0.1043\n",
            "Epoch 4/100\n",
            "52/52 [==============================] - 6s 109ms/step - loss: 2.3024 - accuracy: 0.1073\n",
            "Epoch 5/100\n",
            "52/52 [==============================] - 8s 147ms/step - loss: 2.3024 - accuracy: 0.0995\n",
            "Epoch 6/100\n",
            "52/52 [==============================] - 6s 108ms/step - loss: 2.3024 - accuracy: 0.1049\n",
            "Epoch 7/100\n",
            "52/52 [==============================] - 8s 147ms/step - loss: 2.3023 - accuracy: 0.1013\n",
            "Epoch 8/100\n",
            "52/52 [==============================] - 6s 106ms/step - loss: 2.3021 - accuracy: 0.1019\n",
            "Epoch 9/100\n",
            "52/52 [==============================] - 6s 124ms/step - loss: 2.3021 - accuracy: 0.1037\n",
            "Epoch 10/100\n",
            "52/52 [==============================] - 7s 130ms/step - loss: 2.3023 - accuracy: 0.1043\n",
            "Epoch 11/100\n",
            "52/52 [==============================] - 6s 107ms/step - loss: 2.3023 - accuracy: 0.0940\n",
            "Epoch 12/100\n",
            "52/52 [==============================] - 8s 148ms/step - loss: 2.3021 - accuracy: 0.1086\n",
            "Epoch 13/100\n",
            "52/52 [==============================] - 5s 105ms/step - loss: 2.3020 - accuracy: 0.0995\n",
            "Epoch 14/100\n",
            "52/52 [==============================] - 8s 148ms/step - loss: 2.3019 - accuracy: 0.0958\n",
            "Epoch 15/100\n",
            "52/52 [==============================] - 6s 107ms/step - loss: 2.3019 - accuracy: 0.1025\n",
            "Epoch 16/100\n",
            "52/52 [==============================] - 7s 142ms/step - loss: 2.3018 - accuracy: 0.1031\n",
            "Epoch 17/100\n",
            "52/52 [==============================] - 6s 108ms/step - loss: 2.3017 - accuracy: 0.1049\n",
            "Epoch 18/100\n",
            "52/52 [==============================] - 6s 120ms/step - loss: 2.3017 - accuracy: 0.1086\n",
            "Epoch 19/100\n",
            "52/52 [==============================] - 7s 133ms/step - loss: 2.3014 - accuracy: 0.1098\n",
            "Epoch 20/100\n",
            "52/52 [==============================] - 6s 106ms/step - loss: 2.3014 - accuracy: 0.1049\n",
            "Epoch 21/100\n",
            "52/52 [==============================] - 8s 146ms/step - loss: 2.3010 - accuracy: 0.1037\n",
            "Epoch 22/100\n",
            "52/52 [==============================] - 6s 109ms/step - loss: 2.3011 - accuracy: 0.1061\n",
            "Epoch 23/100\n",
            "52/52 [==============================] - 8s 149ms/step - loss: 2.3005 - accuracy: 0.1067\n",
            "Epoch 24/100\n",
            "52/52 [==============================] - 6s 109ms/step - loss: 2.2998 - accuracy: 0.1079\n",
            "Epoch 25/100\n",
            "52/52 [==============================] - 8s 148ms/step - loss: 2.2990 - accuracy: 0.1158\n",
            "Epoch 26/100\n",
            "52/52 [==============================] - 6s 108ms/step - loss: 2.2976 - accuracy: 0.1352\n",
            "Epoch 27/100\n",
            "52/52 [==============================] - 7s 136ms/step - loss: 2.2958 - accuracy: 0.1522\n",
            "Epoch 28/100\n",
            "52/52 [==============================] - 6s 120ms/step - loss: 2.2934 - accuracy: 0.1686\n",
            "Epoch 29/100\n",
            "52/52 [==============================] - 6s 114ms/step - loss: 2.2880 - accuracy: 0.1941\n",
            "Epoch 30/100\n",
            "52/52 [==============================] - 7s 140ms/step - loss: 2.2817 - accuracy: 0.1989\n",
            "Epoch 31/100\n",
            "52/52 [==============================] - 6s 109ms/step - loss: 2.2720 - accuracy: 0.2498\n",
            "Epoch 32/100\n",
            "52/52 [==============================] - 8s 150ms/step - loss: 2.2595 - accuracy: 0.2408\n",
            "Epoch 33/100\n",
            "52/52 [==============================] - 6s 110ms/step - loss: 2.2398 - accuracy: 0.3250\n",
            "Epoch 34/100\n",
            "52/52 [==============================] - 8s 148ms/step - loss: 2.2120 - accuracy: 0.3451\n",
            "Epoch 35/100\n",
            "52/52 [==============================] - 6s 110ms/step - loss: 2.1756 - accuracy: 0.3669\n",
            "Epoch 36/100\n",
            "52/52 [==============================] - 7s 144ms/step - loss: 2.1331 - accuracy: 0.3978\n",
            "Epoch 37/100\n",
            "52/52 [==============================] - 6s 111ms/step - loss: 2.0813 - accuracy: 0.4136\n",
            "Epoch 38/100\n",
            "52/52 [==============================] - 7s 129ms/step - loss: 2.0204 - accuracy: 0.4397\n",
            "Epoch 39/100\n",
            "52/52 [==============================] - 7s 127ms/step - loss: 1.9466 - accuracy: 0.4306\n",
            "Epoch 40/100\n",
            "52/52 [==============================] - 6s 113ms/step - loss: 1.8857 - accuracy: 0.4463\n",
            "Epoch 41/100\n",
            "52/52 [==============================] - 8s 145ms/step - loss: 1.8137 - accuracy: 0.4936\n",
            "Epoch 42/100\n",
            "52/52 [==============================] - 6s 109ms/step - loss: 1.7442 - accuracy: 0.4979\n",
            "Epoch 43/100\n",
            "52/52 [==============================] - 8s 148ms/step - loss: 1.6733 - accuracy: 0.5149\n",
            "Epoch 44/100\n",
            "52/52 [==============================] - 5s 103ms/step - loss: 1.6148 - accuracy: 0.5167\n",
            "Epoch 45/100\n",
            "52/52 [==============================] - 7s 144ms/step - loss: 1.5721 - accuracy: 0.5233\n",
            "Epoch 46/100\n",
            "52/52 [==============================] - 6s 107ms/step - loss: 1.4949 - accuracy: 0.5482\n",
            "Epoch 47/100\n",
            "52/52 [==============================] - 6s 121ms/step - loss: 1.4569 - accuracy: 0.5573\n",
            "Epoch 48/100\n",
            "52/52 [==============================] - 7s 125ms/step - loss: 1.3986 - accuracy: 0.5731\n",
            "Epoch 49/100\n",
            "52/52 [==============================] - 5s 103ms/step - loss: 1.3642 - accuracy: 0.5804\n",
            "Epoch 50/100\n",
            "52/52 [==============================] - 8s 145ms/step - loss: 1.3468 - accuracy: 0.5828\n",
            "Epoch 51/100\n",
            "52/52 [==============================] - 5s 104ms/step - loss: 1.2821 - accuracy: 0.6040\n",
            "Epoch 52/100\n",
            "52/52 [==============================] - 7s 144ms/step - loss: 1.2633 - accuracy: 0.6004\n",
            "Epoch 53/100\n",
            "52/52 [==============================] - 5s 104ms/step - loss: 1.2532 - accuracy: 0.6070\n",
            "Epoch 54/100\n",
            "52/52 [==============================] - 6s 123ms/step - loss: 1.2210 - accuracy: 0.6064\n",
            "Epoch 55/100\n",
            "52/52 [==============================] - 7s 125ms/step - loss: 1.1892 - accuracy: 0.6234\n",
            "Epoch 56/100\n",
            "52/52 [==============================] - 5s 104ms/step - loss: 1.1693 - accuracy: 0.6349\n",
            "Epoch 57/100\n",
            "52/52 [==============================] - 7s 144ms/step - loss: 1.1386 - accuracy: 0.6422\n",
            "Epoch 58/100\n",
            "52/52 [==============================] - 5s 105ms/step - loss: 1.1139 - accuracy: 0.6483\n",
            "Epoch 59/100\n",
            "52/52 [==============================] - 7s 145ms/step - loss: 1.1081 - accuracy: 0.6471\n",
            "Epoch 60/100\n",
            "52/52 [==============================] - 5s 105ms/step - loss: 1.1018 - accuracy: 0.6507\n",
            "Epoch 61/100\n",
            "52/52 [==============================] - 7s 125ms/step - loss: 1.0733 - accuracy: 0.6640\n",
            "Epoch 62/100\n",
            "52/52 [==============================] - 6s 121ms/step - loss: 1.0777 - accuracy: 0.6586\n",
            "Epoch 63/100\n",
            "52/52 [==============================] - 5s 105ms/step - loss: 1.0616 - accuracy: 0.6622\n",
            "Epoch 64/100\n",
            "52/52 [==============================] - 8s 152ms/step - loss: 1.0516 - accuracy: 0.6786\n",
            "Epoch 65/100\n",
            "52/52 [==============================] - 6s 106ms/step - loss: 1.0221 - accuracy: 0.6683\n",
            "Epoch 66/100\n",
            "52/52 [==============================] - 8s 146ms/step - loss: 1.0321 - accuracy: 0.6665\n",
            "Epoch 67/100\n",
            "52/52 [==============================] - 5s 105ms/step - loss: 1.0102 - accuracy: 0.6689\n",
            "Epoch 68/100\n",
            "52/52 [==============================] - 7s 133ms/step - loss: 0.9950 - accuracy: 0.6798\n",
            "Epoch 69/100\n",
            "52/52 [==============================] - 6s 115ms/step - loss: 0.9908 - accuracy: 0.6822\n",
            "Epoch 70/100\n",
            "52/52 [==============================] - 6s 110ms/step - loss: 0.9809 - accuracy: 0.6834\n",
            "Epoch 71/100\n",
            "52/52 [==============================] - 7s 139ms/step - loss: 0.9846 - accuracy: 0.6847\n",
            "Epoch 72/100\n",
            "52/52 [==============================] - 5s 106ms/step - loss: 0.9620 - accuracy: 0.6871\n",
            "Epoch 73/100\n",
            "52/52 [==============================] - 8s 147ms/step - loss: 0.9716 - accuracy: 0.6786\n",
            "Epoch 74/100\n",
            "52/52 [==============================] - 6s 106ms/step - loss: 0.9392 - accuracy: 0.6956\n",
            "Epoch 75/100\n",
            "52/52 [==============================] - 8s 145ms/step - loss: 0.9203 - accuracy: 0.7077\n",
            "Epoch 76/100\n",
            "52/52 [==============================] - 5s 105ms/step - loss: 0.9464 - accuracy: 0.6901\n",
            "Epoch 77/100\n",
            "52/52 [==============================] - 6s 118ms/step - loss: 0.9116 - accuracy: 0.7029\n",
            "Epoch 78/100\n",
            "52/52 [==============================] - 7s 129ms/step - loss: 0.9313 - accuracy: 0.7041\n",
            "Epoch 79/100\n",
            "52/52 [==============================] - 5s 105ms/step - loss: 0.8971 - accuracy: 0.7016\n",
            "Epoch 80/100\n",
            "52/52 [==============================] - 8s 145ms/step - loss: 0.9116 - accuracy: 0.7016\n",
            "Epoch 81/100\n",
            "52/52 [==============================] - 5s 105ms/step - loss: 0.8825 - accuracy: 0.7198\n",
            "Epoch 82/100\n",
            "52/52 [==============================] - 8s 145ms/step - loss: 0.9033 - accuracy: 0.7156\n",
            "Epoch 83/100\n",
            "52/52 [==============================] - 5s 104ms/step - loss: 0.8942 - accuracy: 0.6998\n",
            "Epoch 84/100\n",
            "52/52 [==============================] - 7s 128ms/step - loss: 0.8754 - accuracy: 0.7186\n",
            "Epoch 85/100\n",
            "52/52 [==============================] - 6s 121ms/step - loss: 0.8649 - accuracy: 0.7277\n",
            "Epoch 86/100\n",
            "52/52 [==============================] - 5s 104ms/step - loss: 0.8699 - accuracy: 0.7204\n",
            "Epoch 87/100\n",
            "52/52 [==============================] - 8s 148ms/step - loss: 0.8572 - accuracy: 0.7307\n",
            "Epoch 88/100\n",
            "52/52 [==============================] - 6s 112ms/step - loss: 0.8376 - accuracy: 0.7326\n",
            "Epoch 89/100\n",
            "52/52 [==============================] - 8s 150ms/step - loss: 0.8407 - accuracy: 0.7265\n",
            "Epoch 90/100\n",
            "52/52 [==============================] - 6s 109ms/step - loss: 0.8536 - accuracy: 0.7301\n",
            "Epoch 91/100\n",
            "52/52 [==============================] - 8s 146ms/step - loss: 0.8518 - accuracy: 0.7229\n",
            "Epoch 92/100\n",
            "52/52 [==============================] - 5s 105ms/step - loss: 0.8107 - accuracy: 0.7411\n",
            "Epoch 93/100\n",
            "52/52 [==============================] - 6s 121ms/step - loss: 0.8177 - accuracy: 0.7277\n",
            "Epoch 94/100\n",
            "52/52 [==============================] - 7s 129ms/step - loss: 0.8038 - accuracy: 0.7392\n",
            "Epoch 95/100\n",
            "52/52 [==============================] - 5s 105ms/step - loss: 0.8006 - accuracy: 0.7471\n",
            "Epoch 96/100\n",
            "52/52 [==============================] - 8s 146ms/step - loss: 0.8051 - accuracy: 0.7514\n",
            "Epoch 97/100\n",
            "52/52 [==============================] - 5s 106ms/step - loss: 0.8102 - accuracy: 0.7350\n",
            "Epoch 98/100\n",
            "52/52 [==============================] - 8s 147ms/step - loss: 0.8069 - accuracy: 0.7483\n",
            "Epoch 99/100\n",
            "52/52 [==============================] - 6s 106ms/step - loss: 0.7926 - accuracy: 0.7495\n",
            "Epoch 100/100\n",
            "52/52 [==============================] - 7s 129ms/step - loss: 0.7666 - accuracy: 0.7532\n"
          ]
        },
        {
          "output_type": "execute_result",
          "data": {
            "text/plain": [
              "<keras.callbacks.History at 0x7f169b48a610>"
            ]
          },
          "metadata": {},
          "execution_count": 105
        }
      ]
    },
    {
      "cell_type": "code",
      "source": [
        "model.evaluate(xtest,ytest)"
      ],
      "metadata": {
        "colab": {
          "base_uri": "https://localhost:8080/"
        },
        "id": "8DxtkHw2C-DR",
        "outputId": "d7eb1239-1442-43d3-a25f-942353138764"
      },
      "execution_count": 106,
      "outputs": [
        {
          "output_type": "stream",
          "name": "stdout",
          "text": [
            "13/13 [==============================] - 1s 29ms/step - loss: 0.7807 - accuracy: 0.7603\n"
          ]
        },
        {
          "output_type": "execute_result",
          "data": {
            "text/plain": [
              "[0.7806981801986694, 0.7602905631065369]"
            ]
          },
          "metadata": {},
          "execution_count": 106
        }
      ]
    },
    {
      "cell_type": "code",
      "source": [
        "l = model.predict(xtest)\n",
        "np.argmax(l[5])"
      ],
      "metadata": {
        "colab": {
          "base_uri": "https://localhost:8080/"
        },
        "id": "ikJtfFDXPJLW",
        "outputId": "eb6aa770-df7b-45de-e03a-69ba957f642f"
      },
      "execution_count": 114,
      "outputs": [
        {
          "output_type": "stream",
          "name": "stdout",
          "text": [
            "13/13 [==============================] - 1s 52ms/step\n"
          ]
        },
        {
          "output_type": "execute_result",
          "data": {
            "text/plain": [
              "2"
            ]
          },
          "metadata": {},
          "execution_count": 114
        }
      ]
    },
    {
      "cell_type": "code",
      "source": [
        "ytest[5]"
      ],
      "metadata": {
        "colab": {
          "base_uri": "https://localhost:8080/"
        },
        "id": "3Hs1o-DVdZZe",
        "outputId": "01644533-cc5d-40ff-bc69-1963188146f4"
      },
      "execution_count": 115,
      "outputs": [
        {
          "output_type": "execute_result",
          "data": {
            "text/plain": [
              "array([0., 0., 1., 0., 0., 0., 0., 0., 0., 0.])"
            ]
          },
          "metadata": {},
          "execution_count": 115
        }
      ]
    }
  ]
}