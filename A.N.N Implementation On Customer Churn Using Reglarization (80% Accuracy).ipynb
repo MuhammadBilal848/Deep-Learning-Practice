{
  "nbformat": 4,
  "nbformat_minor": 0,
  "metadata": {
    "colab": {
      "provenance": [],
      "mount_file_id": "1qup0driHvwZe-_wcoUcWt1UGL9dKRqtf",
      "authorship_tag": "ABX9TyP/ltvoT5XwhWWmkG2qaxyK",
      "include_colab_link": true
    },
    "kernelspec": {
      "name": "python3",
      "display_name": "Python 3"
    },
    "language_info": {
      "name": "python"
    }
  },
  "cells": [
    {
      "cell_type": "markdown",
      "metadata": {
        "id": "view-in-github",
        "colab_type": "text"
      },
      "source": [
        "<a href=\"https://colab.research.google.com/github/MuhammadBilal848/Deep-Learning-Practice/blob/main/A.N.N%20Implementation%20On%20Customer%20Chrun%20Using%20Reglarization%20(80%25%20Accuracy).ipynb\" target=\"_parent\"><img src=\"https://colab.research.google.com/assets/colab-badge.svg\" alt=\"Open In Colab\"/></a>"
      ]
    },
    {
      "cell_type": "code",
      "execution_count": null,
      "metadata": {
        "id": "7W75JfuE0kQ_"
      },
      "outputs": [],
      "source": [
        "import numpy as np\n",
        "import pandas as pd\n",
        "import matplotlib.pyplot as plt\n",
        "import tensorflow as tf\n",
        "from tensorflow import keras\n",
        "import sklearn\n",
        "from sklearn.preprocessing import MinMaxScaler\n",
        "from sklearn.model_selection import train_test_split\n",
        "import warnings\n",
        "warnings.filterwarnings('ignore')"
      ]
    },
    {
      "cell_type": "code",
      "source": [
        "df = pd.read_csv('/content/drive/MyDrive/Colab Notebooks/WA_Fn-UseC_-Telco-Customer-Churn.csv')"
      ],
      "metadata": {
        "id": "PeNE0ak512G2"
      },
      "execution_count": null,
      "outputs": []
    },
    {
      "cell_type": "code",
      "source": [
        "df.drop('customerID',axis = 1,inplace = True)"
      ],
      "metadata": {
        "id": "kKkwJbSY2V_O"
      },
      "execution_count": null,
      "outputs": []
    },
    {
      "cell_type": "code",
      "source": [
        "df.head(3)"
      ],
      "metadata": {
        "colab": {
          "base_uri": "https://localhost:8080/",
          "height": 242
        },
        "id": "i6Ot5XaR3CTa",
        "outputId": "934ee2e6-ffe9-4f1e-ac2a-785e6136ec6d"
      },
      "execution_count": null,
      "outputs": [
        {
          "output_type": "execute_result",
          "data": {
            "text/plain": [
              "   gender  SeniorCitizen Partner Dependents  tenure PhoneService  \\\n",
              "0  Female              0     Yes         No       1           No   \n",
              "1    Male              0      No         No      34          Yes   \n",
              "2    Male              0      No         No       2          Yes   \n",
              "\n",
              "      MultipleLines InternetService OnlineSecurity OnlineBackup  \\\n",
              "0  No phone service             DSL             No          Yes   \n",
              "1                No             DSL            Yes           No   \n",
              "2                No             DSL            Yes          Yes   \n",
              "\n",
              "  DeviceProtection TechSupport StreamingTV StreamingMovies        Contract  \\\n",
              "0               No          No          No              No  Month-to-month   \n",
              "1              Yes          No          No              No        One year   \n",
              "2               No          No          No              No  Month-to-month   \n",
              "\n",
              "  PaperlessBilling     PaymentMethod  MonthlyCharges TotalCharges Churn  \n",
              "0              Yes  Electronic check           29.85        29.85    No  \n",
              "1               No      Mailed check           56.95       1889.5    No  \n",
              "2              Yes      Mailed check           53.85       108.15   Yes  "
            ],
            "text/html": [
              "\n",
              "  <div id=\"df-e70f56f6-9872-4f99-8c0c-3ec9cf245764\">\n",
              "    <div class=\"colab-df-container\">\n",
              "      <div>\n",
              "<style scoped>\n",
              "    .dataframe tbody tr th:only-of-type {\n",
              "        vertical-align: middle;\n",
              "    }\n",
              "\n",
              "    .dataframe tbody tr th {\n",
              "        vertical-align: top;\n",
              "    }\n",
              "\n",
              "    .dataframe thead th {\n",
              "        text-align: right;\n",
              "    }\n",
              "</style>\n",
              "<table border=\"1\" class=\"dataframe\">\n",
              "  <thead>\n",
              "    <tr style=\"text-align: right;\">\n",
              "      <th></th>\n",
              "      <th>gender</th>\n",
              "      <th>SeniorCitizen</th>\n",
              "      <th>Partner</th>\n",
              "      <th>Dependents</th>\n",
              "      <th>tenure</th>\n",
              "      <th>PhoneService</th>\n",
              "      <th>MultipleLines</th>\n",
              "      <th>InternetService</th>\n",
              "      <th>OnlineSecurity</th>\n",
              "      <th>OnlineBackup</th>\n",
              "      <th>DeviceProtection</th>\n",
              "      <th>TechSupport</th>\n",
              "      <th>StreamingTV</th>\n",
              "      <th>StreamingMovies</th>\n",
              "      <th>Contract</th>\n",
              "      <th>PaperlessBilling</th>\n",
              "      <th>PaymentMethod</th>\n",
              "      <th>MonthlyCharges</th>\n",
              "      <th>TotalCharges</th>\n",
              "      <th>Churn</th>\n",
              "    </tr>\n",
              "  </thead>\n",
              "  <tbody>\n",
              "    <tr>\n",
              "      <th>0</th>\n",
              "      <td>Female</td>\n",
              "      <td>0</td>\n",
              "      <td>Yes</td>\n",
              "      <td>No</td>\n",
              "      <td>1</td>\n",
              "      <td>No</td>\n",
              "      <td>No phone service</td>\n",
              "      <td>DSL</td>\n",
              "      <td>No</td>\n",
              "      <td>Yes</td>\n",
              "      <td>No</td>\n",
              "      <td>No</td>\n",
              "      <td>No</td>\n",
              "      <td>No</td>\n",
              "      <td>Month-to-month</td>\n",
              "      <td>Yes</td>\n",
              "      <td>Electronic check</td>\n",
              "      <td>29.85</td>\n",
              "      <td>29.85</td>\n",
              "      <td>No</td>\n",
              "    </tr>\n",
              "    <tr>\n",
              "      <th>1</th>\n",
              "      <td>Male</td>\n",
              "      <td>0</td>\n",
              "      <td>No</td>\n",
              "      <td>No</td>\n",
              "      <td>34</td>\n",
              "      <td>Yes</td>\n",
              "      <td>No</td>\n",
              "      <td>DSL</td>\n",
              "      <td>Yes</td>\n",
              "      <td>No</td>\n",
              "      <td>Yes</td>\n",
              "      <td>No</td>\n",
              "      <td>No</td>\n",
              "      <td>No</td>\n",
              "      <td>One year</td>\n",
              "      <td>No</td>\n",
              "      <td>Mailed check</td>\n",
              "      <td>56.95</td>\n",
              "      <td>1889.5</td>\n",
              "      <td>No</td>\n",
              "    </tr>\n",
              "    <tr>\n",
              "      <th>2</th>\n",
              "      <td>Male</td>\n",
              "      <td>0</td>\n",
              "      <td>No</td>\n",
              "      <td>No</td>\n",
              "      <td>2</td>\n",
              "      <td>Yes</td>\n",
              "      <td>No</td>\n",
              "      <td>DSL</td>\n",
              "      <td>Yes</td>\n",
              "      <td>Yes</td>\n",
              "      <td>No</td>\n",
              "      <td>No</td>\n",
              "      <td>No</td>\n",
              "      <td>No</td>\n",
              "      <td>Month-to-month</td>\n",
              "      <td>Yes</td>\n",
              "      <td>Mailed check</td>\n",
              "      <td>53.85</td>\n",
              "      <td>108.15</td>\n",
              "      <td>Yes</td>\n",
              "    </tr>\n",
              "  </tbody>\n",
              "</table>\n",
              "</div>\n",
              "      <button class=\"colab-df-convert\" onclick=\"convertToInteractive('df-e70f56f6-9872-4f99-8c0c-3ec9cf245764')\"\n",
              "              title=\"Convert this dataframe to an interactive table.\"\n",
              "              style=\"display:none;\">\n",
              "        \n",
              "  <svg xmlns=\"http://www.w3.org/2000/svg\" height=\"24px\"viewBox=\"0 0 24 24\"\n",
              "       width=\"24px\">\n",
              "    <path d=\"M0 0h24v24H0V0z\" fill=\"none\"/>\n",
              "    <path d=\"M18.56 5.44l.94 2.06.94-2.06 2.06-.94-2.06-.94-.94-2.06-.94 2.06-2.06.94zm-11 1L8.5 8.5l.94-2.06 2.06-.94-2.06-.94L8.5 2.5l-.94 2.06-2.06.94zm10 10l.94 2.06.94-2.06 2.06-.94-2.06-.94-.94-2.06-.94 2.06-2.06.94z\"/><path d=\"M17.41 7.96l-1.37-1.37c-.4-.4-.92-.59-1.43-.59-.52 0-1.04.2-1.43.59L10.3 9.45l-7.72 7.72c-.78.78-.78 2.05 0 2.83L4 21.41c.39.39.9.59 1.41.59.51 0 1.02-.2 1.41-.59l7.78-7.78 2.81-2.81c.8-.78.8-2.07 0-2.86zM5.41 20L4 18.59l7.72-7.72 1.47 1.35L5.41 20z\"/>\n",
              "  </svg>\n",
              "      </button>\n",
              "      \n",
              "  <style>\n",
              "    .colab-df-container {\n",
              "      display:flex;\n",
              "      flex-wrap:wrap;\n",
              "      gap: 12px;\n",
              "    }\n",
              "\n",
              "    .colab-df-convert {\n",
              "      background-color: #E8F0FE;\n",
              "      border: none;\n",
              "      border-radius: 50%;\n",
              "      cursor: pointer;\n",
              "      display: none;\n",
              "      fill: #1967D2;\n",
              "      height: 32px;\n",
              "      padding: 0 0 0 0;\n",
              "      width: 32px;\n",
              "    }\n",
              "\n",
              "    .colab-df-convert:hover {\n",
              "      background-color: #E2EBFA;\n",
              "      box-shadow: 0px 1px 2px rgba(60, 64, 67, 0.3), 0px 1px 3px 1px rgba(60, 64, 67, 0.15);\n",
              "      fill: #174EA6;\n",
              "    }\n",
              "\n",
              "    [theme=dark] .colab-df-convert {\n",
              "      background-color: #3B4455;\n",
              "      fill: #D2E3FC;\n",
              "    }\n",
              "\n",
              "    [theme=dark] .colab-df-convert:hover {\n",
              "      background-color: #434B5C;\n",
              "      box-shadow: 0px 1px 3px 1px rgba(0, 0, 0, 0.15);\n",
              "      filter: drop-shadow(0px 1px 2px rgba(0, 0, 0, 0.3));\n",
              "      fill: #FFFFFF;\n",
              "    }\n",
              "  </style>\n",
              "\n",
              "      <script>\n",
              "        const buttonEl =\n",
              "          document.querySelector('#df-e70f56f6-9872-4f99-8c0c-3ec9cf245764 button.colab-df-convert');\n",
              "        buttonEl.style.display =\n",
              "          google.colab.kernel.accessAllowed ? 'block' : 'none';\n",
              "\n",
              "        async function convertToInteractive(key) {\n",
              "          const element = document.querySelector('#df-e70f56f6-9872-4f99-8c0c-3ec9cf245764');\n",
              "          const dataTable =\n",
              "            await google.colab.kernel.invokeFunction('convertToInteractive',\n",
              "                                                     [key], {});\n",
              "          if (!dataTable) return;\n",
              "\n",
              "          const docLinkHtml = 'Like what you see? Visit the ' +\n",
              "            '<a target=\"_blank\" href=https://colab.research.google.com/notebooks/data_table.ipynb>data table notebook</a>'\n",
              "            + ' to learn more about interactive tables.';\n",
              "          element.innerHTML = '';\n",
              "          dataTable['output_type'] = 'display_data';\n",
              "          await google.colab.output.renderOutput(dataTable, element);\n",
              "          const docLink = document.createElement('div');\n",
              "          docLink.innerHTML = docLinkHtml;\n",
              "          element.appendChild(docLink);\n",
              "        }\n",
              "      </script>\n",
              "    </div>\n",
              "  </div>\n",
              "  "
            ]
          },
          "metadata": {},
          "execution_count": 132
        }
      ]
    },
    {
      "cell_type": "code",
      "source": [
        "df.dtypes"
      ],
      "metadata": {
        "colab": {
          "base_uri": "https://localhost:8080/"
        },
        "id": "AufiwTbq6RiO",
        "outputId": "4e527c59-67f1-4572-90db-b7995e2229f5"
      },
      "execution_count": null,
      "outputs": [
        {
          "output_type": "execute_result",
          "data": {
            "text/plain": [
              "gender               object\n",
              "SeniorCitizen         int64\n",
              "Partner              object\n",
              "Dependents           object\n",
              "tenure                int64\n",
              "PhoneService         object\n",
              "MultipleLines        object\n",
              "InternetService      object\n",
              "OnlineSecurity       object\n",
              "OnlineBackup         object\n",
              "DeviceProtection     object\n",
              "TechSupport          object\n",
              "StreamingTV          object\n",
              "StreamingMovies      object\n",
              "Contract             object\n",
              "PaperlessBilling     object\n",
              "PaymentMethod        object\n",
              "MonthlyCharges      float64\n",
              "TotalCharges         object\n",
              "Churn                object\n",
              "dtype: object"
            ]
          },
          "metadata": {},
          "execution_count": 133
        }
      ]
    },
    {
      "cell_type": "code",
      "source": [
        "df.select_dtypes(np.object).columns"
      ],
      "metadata": {
        "colab": {
          "base_uri": "https://localhost:8080/"
        },
        "id": "wMS1Ky3V3kxS",
        "outputId": "af1fff16-ccf4-4a8a-9fec-5a354cf5924f"
      },
      "execution_count": null,
      "outputs": [
        {
          "output_type": "execute_result",
          "data": {
            "text/plain": [
              "Index(['gender', 'Partner', 'Dependents', 'PhoneService', 'MultipleLines',\n",
              "       'InternetService', 'OnlineSecurity', 'OnlineBackup', 'DeviceProtection',\n",
              "       'TechSupport', 'StreamingTV', 'StreamingMovies', 'Contract',\n",
              "       'PaperlessBilling', 'PaymentMethod', 'TotalCharges', 'Churn'],\n",
              "      dtype='object')"
            ]
          },
          "metadata": {},
          "execution_count": 134
        }
      ]
    },
    {
      "cell_type": "code",
      "source": [
        "df.select_dtypes(np.number).columns"
      ],
      "metadata": {
        "colab": {
          "base_uri": "https://localhost:8080/"
        },
        "id": "mXpxtqk73y2R",
        "outputId": "ba3dae83-0616-4ad4-9707-475cad79bc0e"
      },
      "execution_count": null,
      "outputs": [
        {
          "output_type": "execute_result",
          "data": {
            "text/plain": [
              "Index(['SeniorCitizen', 'tenure', 'MonthlyCharges'], dtype='object')"
            ]
          },
          "metadata": {},
          "execution_count": 135
        }
      ]
    },
    {
      "cell_type": "code",
      "source": [
        "df.MultipleLines.value_counts()"
      ],
      "metadata": {
        "colab": {
          "base_uri": "https://localhost:8080/"
        },
        "id": "tz93CI0r4iwJ",
        "outputId": "4bbd080f-6c34-4526-f54e-5e567aa1558e"
      },
      "execution_count": null,
      "outputs": [
        {
          "output_type": "execute_result",
          "data": {
            "text/plain": [
              "No                  3390\n",
              "Yes                 2971\n",
              "No phone service     682\n",
              "Name: MultipleLines, dtype: int64"
            ]
          },
          "metadata": {},
          "execution_count": 136
        }
      ]
    },
    {
      "cell_type": "code",
      "source": [
        "df.Contract.value_counts()"
      ],
      "metadata": {
        "colab": {
          "base_uri": "https://localhost:8080/"
        },
        "id": "RS38pI6W5Qyq",
        "outputId": "fc12595e-dead-469c-ee3c-5ea1bb97679e"
      },
      "execution_count": null,
      "outputs": [
        {
          "output_type": "execute_result",
          "data": {
            "text/plain": [
              "Month-to-month    3875\n",
              "Two year          1695\n",
              "One year          1473\n",
              "Name: Contract, dtype: int64"
            ]
          },
          "metadata": {},
          "execution_count": 137
        }
      ]
    },
    {
      "cell_type": "code",
      "source": [
        "df.MonthlyCharges = df.MonthlyCharges.astype(np.int8)"
      ],
      "metadata": {
        "id": "CD5ZH7Nt6IO5"
      },
      "execution_count": null,
      "outputs": []
    },
    {
      "cell_type": "code",
      "source": [
        "df.TotalCharges.dropna(inplace = True)"
      ],
      "metadata": {
        "id": "WNyjNoMr7NMe"
      },
      "execution_count": null,
      "outputs": []
    },
    {
      "cell_type": "code",
      "source": [
        "df.TotalCharges = pd.to_numeric(df.TotalCharges,errors='coerce')\n",
        "df.TotalCharges = df.TotalCharges.fillna(0)\n",
        "df.TotalCharges = df.TotalCharges.astype(np.int8)"
      ],
      "metadata": {
        "id": "cJG6Dom07UAK"
      },
      "execution_count": null,
      "outputs": []
    },
    {
      "cell_type": "code",
      "source": [
        "# df.Churn = df.Churn.replace({'Yes':1 , 'No':0})"
      ],
      "metadata": {
        "id": "zTteW8ug85fr"
      },
      "execution_count": null,
      "outputs": []
    },
    {
      "cell_type": "code",
      "source": [
        "df.StreamingMovies.replace('No internet service','No',inplace = True)\n",
        "df.MultipleLines.replace('No phone service','No',inplace = True)\n",
        "df.OnlineSecurity.replace('No internet service','No',inplace = True)\n",
        "df.StreamingTV.replace('No internet service','No',inplace = True)\n",
        "df.TechSupport.replace('No internet service','No',inplace = True)\n",
        "df.OnlineBackup.replace('No internet service','No',inplace = True)\n",
        "df.DeviceProtection.replace('No internet service','No',inplace = True)"
      ],
      "metadata": {
        "id": "pj95q7nT-8P_"
      },
      "execution_count": null,
      "outputs": []
    },
    {
      "cell_type": "code",
      "source": [
        "df.StreamingMovies.value_counts()"
      ],
      "metadata": {
        "colab": {
          "base_uri": "https://localhost:8080/"
        },
        "id": "EJVZQR_7_rq-",
        "outputId": "d127c0ba-d911-4c6e-fb38-ccaab5d98e40"
      },
      "execution_count": null,
      "outputs": [
        {
          "output_type": "execute_result",
          "data": {
            "text/plain": [
              "No     4311\n",
              "Yes    2732\n",
              "Name: StreamingMovies, dtype: int64"
            ]
          },
          "metadata": {},
          "execution_count": 143
        }
      ]
    },
    {
      "cell_type": "code",
      "source": [
        "df.PaperlessBilling.value_counts()"
      ],
      "metadata": {
        "colab": {
          "base_uri": "https://localhost:8080/"
        },
        "id": "udRZj3c2CqDS",
        "outputId": "b052a5d2-9b76-4768-d696-1772c4695f0e"
      },
      "execution_count": null,
      "outputs": [
        {
          "output_type": "execute_result",
          "data": {
            "text/plain": [
              "Yes    4171\n",
              "No     2872\n",
              "Name: PaperlessBilling, dtype: int64"
            ]
          },
          "metadata": {},
          "execution_count": 144
        }
      ]
    },
    {
      "cell_type": "code",
      "source": [
        "df.gender.replace({'Male':1 , 'Female':0},inplace=True)\n",
        "df.Partner.replace({'Yes':1 , 'No':0},inplace=True)\n",
        "df.Dependents.replace({'Yes':1 , 'No':0},inplace=True)\n",
        "df.PhoneService.replace({'Yes':1 , 'No':0},inplace=True)\n",
        "df.MultipleLines.replace({'Yes':1 , 'No':0},inplace=True)\n",
        "df.OnlineSecurity.replace({'Yes':1 , 'No':0},inplace=True)\n",
        "df.OnlineBackup.replace({'Yes':1 , 'No':0},inplace=True)\n",
        "df.DeviceProtection.replace({'Yes':1 , 'No':0},inplace=True)\n",
        "df.TechSupport.replace({'Yes':1 , 'No':0},inplace=True)\n",
        "df.StreamingTV.replace({'Yes':1 , 'No':0},inplace=True)\n",
        "df.StreamingMovies.replace({'Yes':1 , 'No':0},inplace=True)\n",
        "df.Churn.replace({'Yes':1 , 'No':0},inplace=True)\n",
        "df.PaperlessBilling.replace({'Yes':1 , 'No':0},inplace=True)"
      ],
      "metadata": {
        "id": "Wa_y-Pz4DRgW"
      },
      "execution_count": null,
      "outputs": []
    },
    {
      "cell_type": "code",
      "source": [
        "len(df.columns)"
      ],
      "metadata": {
        "colab": {
          "base_uri": "https://localhost:8080/"
        },
        "id": "zOUY675bEM0f",
        "outputId": "5c59ffeb-c072-49f6-9712-8dee9256bb5e"
      },
      "execution_count": null,
      "outputs": [
        {
          "output_type": "execute_result",
          "data": {
            "text/plain": [
              "20"
            ]
          },
          "metadata": {},
          "execution_count": 146
        }
      ]
    },
    {
      "cell_type": "code",
      "source": [
        "df.Contract.unique()"
      ],
      "metadata": {
        "colab": {
          "base_uri": "https://localhost:8080/"
        },
        "id": "H7dS0A6PtXGU",
        "outputId": "08b867f6-826e-4260-e1af-3e1abe851deb"
      },
      "execution_count": null,
      "outputs": [
        {
          "output_type": "execute_result",
          "data": {
            "text/plain": [
              "array(['Month-to-month', 'One year', 'Two year'], dtype=object)"
            ]
          },
          "metadata": {},
          "execution_count": 147
        }
      ]
    },
    {
      "cell_type": "code",
      "source": [
        "list(df.select_dtypes(object).columns)"
      ],
      "metadata": {
        "colab": {
          "base_uri": "https://localhost:8080/"
        },
        "id": "hsWXXBVSuqpI",
        "outputId": "773793e5-6a44-4c11-9c5b-244fb7f42e81"
      },
      "execution_count": null,
      "outputs": [
        {
          "output_type": "execute_result",
          "data": {
            "text/plain": [
              "['InternetService', 'Contract', 'PaymentMethod']"
            ]
          },
          "metadata": {},
          "execution_count": 148
        }
      ]
    },
    {
      "cell_type": "code",
      "source": [
        "df = pd.get_dummies(data=df,columns = list(df.select_dtypes(object).columns))"
      ],
      "metadata": {
        "id": "I_PfymYQschS"
      },
      "execution_count": null,
      "outputs": []
    },
    {
      "cell_type": "code",
      "source": [
        "mms = MinMaxScaler()\n",
        "df[['tenure','MonthlyCharges','TotalCharges']] = mms.fit_transform(df[['tenure','MonthlyCharges','TotalCharges']])"
      ],
      "metadata": {
        "id": "iZIsEEv7sxbp"
      },
      "execution_count": null,
      "outputs": []
    },
    {
      "cell_type": "code",
      "source": [
        "x = df.drop('Churn',axis = 1)\n",
        "y = df['Churn']"
      ],
      "metadata": {
        "id": "4Qa_twKAvLho"
      },
      "execution_count": null,
      "outputs": []
    },
    {
      "cell_type": "code",
      "source": [
        "xtrain , xtest , ytrain , ytest = train_test_split(x,y,test_size = 0.2,random_state = 20)"
      ],
      "metadata": {
        "id": "CIHeRuqEwczp"
      },
      "execution_count": null,
      "outputs": []
    },
    {
      "cell_type": "code",
      "source": [
        "model = keras.Sequential([\n",
        "      keras.layers.Dense(26 , 'relu',input_shape = (26,)), # input layer\n",
        "      keras.layers.Dense(30,'relu'),\n",
        "      keras.layers.Dropout(0.4),\n",
        "      keras.layers.Dense(40,'relu'),\n",
        "      keras.layers.Dropout(0.4),\n",
        "      keras.layers.Dense(50,'relu'),\n",
        "      keras.layers.Dropout(0.4),\n",
        "      keras.layers.Dense(60,'relu'),\n",
        "      keras.layers.Dropout(0.4),\n",
        "      keras.layers.Dense(70,'relu'),\n",
        "      keras.layers.Dropout(0.4),\n",
        "      keras.layers.Dense(1,'sigmoid')\n",
        "])\n",
        "\n",
        "model.compile(\n",
        "    optimizer = 'Adam',\n",
        "    metrics = 'Accuracy',\n",
        "    loss = 'binary_crossentropy')\n",
        "\n",
        "model.fit(xtrain,ytrain,epochs = 100)"
      ],
      "metadata": {
        "colab": {
          "base_uri": "https://localhost:8080/"
        },
        "id": "kOCm2lOxw0fw",
        "outputId": "6fe3dcc0-91d2-4ed5-cdb8-d483718e5acb"
      },
      "execution_count": null,
      "outputs": [
        {
          "output_type": "stream",
          "name": "stdout",
          "text": [
            "Epoch 1/100\n",
            "177/177 [==============================] - 5s 3ms/step - loss: 0.5555 - Accuracy: 0.7204\n",
            "Epoch 2/100\n",
            "177/177 [==============================] - 1s 3ms/step - loss: 0.4762 - Accuracy: 0.7325\n",
            "Epoch 3/100\n",
            "177/177 [==============================] - 1s 3ms/step - loss: 0.4706 - Accuracy: 0.7465\n",
            "Epoch 4/100\n",
            "177/177 [==============================] - 1s 3ms/step - loss: 0.4617 - Accuracy: 0.7788\n",
            "Epoch 5/100\n",
            "177/177 [==============================] - 1s 3ms/step - loss: 0.4597 - Accuracy: 0.7804\n",
            "Epoch 6/100\n",
            "177/177 [==============================] - 1s 3ms/step - loss: 0.4564 - Accuracy: 0.7870\n",
            "Epoch 7/100\n",
            "177/177 [==============================] - 1s 3ms/step - loss: 0.4504 - Accuracy: 0.7914\n",
            "Epoch 8/100\n",
            "177/177 [==============================] - 1s 3ms/step - loss: 0.4471 - Accuracy: 0.7859\n",
            "Epoch 9/100\n",
            "177/177 [==============================] - 1s 3ms/step - loss: 0.4460 - Accuracy: 0.7957\n",
            "Epoch 10/100\n",
            "177/177 [==============================] - 1s 3ms/step - loss: 0.4435 - Accuracy: 0.7916\n",
            "Epoch 11/100\n",
            "177/177 [==============================] - 1s 3ms/step - loss: 0.4460 - Accuracy: 0.7929\n",
            "Epoch 12/100\n",
            "177/177 [==============================] - 1s 3ms/step - loss: 0.4469 - Accuracy: 0.7923\n",
            "Epoch 13/100\n",
            "177/177 [==============================] - 1s 3ms/step - loss: 0.4429 - Accuracy: 0.7922\n",
            "Epoch 14/100\n",
            "177/177 [==============================] - 1s 3ms/step - loss: 0.4419 - Accuracy: 0.7977\n",
            "Epoch 15/100\n",
            "177/177 [==============================] - 1s 3ms/step - loss: 0.4413 - Accuracy: 0.7932\n",
            "Epoch 16/100\n",
            "177/177 [==============================] - 1s 3ms/step - loss: 0.4367 - Accuracy: 0.7964\n",
            "Epoch 17/100\n",
            "177/177 [==============================] - 1s 3ms/step - loss: 0.4369 - Accuracy: 0.7964\n",
            "Epoch 18/100\n",
            "177/177 [==============================] - 1s 3ms/step - loss: 0.4407 - Accuracy: 0.7932\n",
            "Epoch 19/100\n",
            "177/177 [==============================] - 1s 4ms/step - loss: 0.4360 - Accuracy: 0.7953\n",
            "Epoch 20/100\n",
            "177/177 [==============================] - 1s 5ms/step - loss: 0.4376 - Accuracy: 0.8001\n",
            "Epoch 21/100\n",
            "177/177 [==============================] - 1s 4ms/step - loss: 0.4312 - Accuracy: 0.7969\n",
            "Epoch 22/100\n",
            "177/177 [==============================] - 1s 4ms/step - loss: 0.4358 - Accuracy: 0.8003\n",
            "Epoch 23/100\n",
            "177/177 [==============================] - 1s 4ms/step - loss: 0.4296 - Accuracy: 0.7973\n",
            "Epoch 24/100\n",
            "177/177 [==============================] - 1s 5ms/step - loss: 0.4309 - Accuracy: 0.8003\n",
            "Epoch 25/100\n",
            "177/177 [==============================] - 1s 4ms/step - loss: 0.4275 - Accuracy: 0.7985\n",
            "Epoch 26/100\n",
            "177/177 [==============================] - 1s 3ms/step - loss: 0.4298 - Accuracy: 0.8037\n",
            "Epoch 27/100\n",
            "177/177 [==============================] - 1s 3ms/step - loss: 0.4300 - Accuracy: 0.8056\n",
            "Epoch 28/100\n",
            "177/177 [==============================] - 1s 3ms/step - loss: 0.4225 - Accuracy: 0.8035\n",
            "Epoch 29/100\n",
            "177/177 [==============================] - 1s 3ms/step - loss: 0.4261 - Accuracy: 0.8065\n",
            "Epoch 30/100\n",
            "177/177 [==============================] - 1s 3ms/step - loss: 0.4218 - Accuracy: 0.8058\n",
            "Epoch 31/100\n",
            "177/177 [==============================] - 1s 3ms/step - loss: 0.4164 - Accuracy: 0.8080\n",
            "Epoch 32/100\n",
            "177/177 [==============================] - 1s 3ms/step - loss: 0.4170 - Accuracy: 0.8049\n",
            "Epoch 33/100\n",
            "177/177 [==============================] - 1s 3ms/step - loss: 0.4217 - Accuracy: 0.8074\n",
            "Epoch 34/100\n",
            "177/177 [==============================] - 0s 3ms/step - loss: 0.4189 - Accuracy: 0.8099\n",
            "Epoch 35/100\n",
            "177/177 [==============================] - 1s 3ms/step - loss: 0.4169 - Accuracy: 0.8087\n",
            "Epoch 36/100\n",
            "177/177 [==============================] - 1s 3ms/step - loss: 0.4154 - Accuracy: 0.8120\n",
            "Epoch 37/100\n",
            "177/177 [==============================] - 1s 3ms/step - loss: 0.4161 - Accuracy: 0.8095\n",
            "Epoch 38/100\n",
            "177/177 [==============================] - 1s 3ms/step - loss: 0.4154 - Accuracy: 0.8080\n",
            "Epoch 39/100\n",
            "177/177 [==============================] - 1s 3ms/step - loss: 0.4195 - Accuracy: 0.8090\n",
            "Epoch 40/100\n",
            "177/177 [==============================] - 0s 3ms/step - loss: 0.4165 - Accuracy: 0.8110\n",
            "Epoch 41/100\n",
            "177/177 [==============================] - 1s 3ms/step - loss: 0.4154 - Accuracy: 0.8042\n",
            "Epoch 42/100\n",
            "177/177 [==============================] - 1s 3ms/step - loss: 0.4107 - Accuracy: 0.8174\n",
            "Epoch 43/100\n",
            "177/177 [==============================] - 1s 3ms/step - loss: 0.4083 - Accuracy: 0.8080\n",
            "Epoch 44/100\n",
            "177/177 [==============================] - 1s 5ms/step - loss: 0.4107 - Accuracy: 0.8099\n",
            "Epoch 45/100\n",
            "177/177 [==============================] - 1s 5ms/step - loss: 0.4069 - Accuracy: 0.8099\n",
            "Epoch 46/100\n",
            "177/177 [==============================] - 1s 5ms/step - loss: 0.4100 - Accuracy: 0.8111\n",
            "Epoch 47/100\n",
            "177/177 [==============================] - 1s 4ms/step - loss: 0.4075 - Accuracy: 0.8110\n",
            "Epoch 48/100\n",
            "177/177 [==============================] - 1s 5ms/step - loss: 0.4057 - Accuracy: 0.8103\n",
            "Epoch 49/100\n",
            "177/177 [==============================] - 1s 4ms/step - loss: 0.4016 - Accuracy: 0.8193\n",
            "Epoch 50/100\n",
            "177/177 [==============================] - 1s 3ms/step - loss: 0.3975 - Accuracy: 0.8161\n",
            "Epoch 51/100\n",
            "177/177 [==============================] - 1s 3ms/step - loss: 0.4015 - Accuracy: 0.8179\n",
            "Epoch 52/100\n",
            "177/177 [==============================] - 1s 3ms/step - loss: 0.3976 - Accuracy: 0.8138\n",
            "Epoch 53/100\n",
            "177/177 [==============================] - 1s 3ms/step - loss: 0.4001 - Accuracy: 0.8147\n",
            "Epoch 54/100\n",
            "177/177 [==============================] - 1s 3ms/step - loss: 0.4016 - Accuracy: 0.8159\n",
            "Epoch 55/100\n",
            "177/177 [==============================] - 1s 3ms/step - loss: 0.3883 - Accuracy: 0.8179\n",
            "Epoch 56/100\n",
            "177/177 [==============================] - 1s 3ms/step - loss: 0.3983 - Accuracy: 0.8138\n",
            "Epoch 57/100\n",
            "177/177 [==============================] - 1s 3ms/step - loss: 0.3972 - Accuracy: 0.8126\n",
            "Epoch 58/100\n",
            "177/177 [==============================] - 1s 3ms/step - loss: 0.3997 - Accuracy: 0.8197\n",
            "Epoch 59/100\n",
            "177/177 [==============================] - 1s 3ms/step - loss: 0.3911 - Accuracy: 0.8193\n",
            "Epoch 60/100\n",
            "177/177 [==============================] - 1s 3ms/step - loss: 0.3947 - Accuracy: 0.8147\n",
            "Epoch 61/100\n",
            "177/177 [==============================] - 1s 3ms/step - loss: 0.3910 - Accuracy: 0.8191\n",
            "Epoch 62/100\n",
            "177/177 [==============================] - 1s 3ms/step - loss: 0.3907 - Accuracy: 0.8159\n",
            "Epoch 63/100\n",
            "177/177 [==============================] - 1s 3ms/step - loss: 0.3880 - Accuracy: 0.8161\n",
            "Epoch 64/100\n",
            "177/177 [==============================] - 1s 3ms/step - loss: 0.3894 - Accuracy: 0.8145\n",
            "Epoch 65/100\n",
            "177/177 [==============================] - 1s 3ms/step - loss: 0.3918 - Accuracy: 0.8131\n",
            "Epoch 66/100\n",
            "177/177 [==============================] - 1s 3ms/step - loss: 0.3868 - Accuracy: 0.8151\n",
            "Epoch 67/100\n",
            "177/177 [==============================] - 1s 3ms/step - loss: 0.3807 - Accuracy: 0.8202\n",
            "Epoch 68/100\n",
            "177/177 [==============================] - 1s 4ms/step - loss: 0.3864 - Accuracy: 0.8213\n",
            "Epoch 69/100\n",
            "177/177 [==============================] - 1s 5ms/step - loss: 0.3845 - Accuracy: 0.8186\n",
            "Epoch 70/100\n",
            "177/177 [==============================] - 1s 5ms/step - loss: 0.3817 - Accuracy: 0.8186\n",
            "Epoch 71/100\n",
            "177/177 [==============================] - 1s 4ms/step - loss: 0.3811 - Accuracy: 0.8166\n",
            "Epoch 72/100\n",
            "177/177 [==============================] - 1s 4ms/step - loss: 0.3800 - Accuracy: 0.8227\n",
            "Epoch 73/100\n",
            "177/177 [==============================] - 1s 4ms/step - loss: 0.3767 - Accuracy: 0.8186\n",
            "Epoch 74/100\n",
            "177/177 [==============================] - 1s 3ms/step - loss: 0.3758 - Accuracy: 0.8184\n",
            "Epoch 75/100\n",
            "177/177 [==============================] - 1s 3ms/step - loss: 0.3777 - Accuracy: 0.8218\n",
            "Epoch 76/100\n",
            "177/177 [==============================] - 1s 3ms/step - loss: 0.3785 - Accuracy: 0.8158\n",
            "Epoch 77/100\n",
            "177/177 [==============================] - 1s 3ms/step - loss: 0.3813 - Accuracy: 0.8197\n",
            "Epoch 78/100\n",
            "177/177 [==============================] - 1s 3ms/step - loss: 0.3794 - Accuracy: 0.8181\n",
            "Epoch 79/100\n",
            "177/177 [==============================] - 1s 3ms/step - loss: 0.3770 - Accuracy: 0.8218\n",
            "Epoch 80/100\n",
            "177/177 [==============================] - 1s 3ms/step - loss: 0.3722 - Accuracy: 0.8236\n",
            "Epoch 81/100\n",
            "177/177 [==============================] - 1s 3ms/step - loss: 0.3716 - Accuracy: 0.8198\n",
            "Epoch 82/100\n",
            "177/177 [==============================] - 1s 3ms/step - loss: 0.3796 - Accuracy: 0.8222\n",
            "Epoch 83/100\n",
            "177/177 [==============================] - 1s 3ms/step - loss: 0.3728 - Accuracy: 0.8236\n",
            "Epoch 84/100\n",
            "177/177 [==============================] - 1s 3ms/step - loss: 0.3682 - Accuracy: 0.8209\n",
            "Epoch 85/100\n",
            "177/177 [==============================] - 1s 3ms/step - loss: 0.3753 - Accuracy: 0.8237\n",
            "Epoch 86/100\n",
            "177/177 [==============================] - 1s 3ms/step - loss: 0.3659 - Accuracy: 0.8206\n",
            "Epoch 87/100\n",
            "177/177 [==============================] - 1s 3ms/step - loss: 0.3716 - Accuracy: 0.8184\n",
            "Epoch 88/100\n",
            "177/177 [==============================] - 0s 3ms/step - loss: 0.3724 - Accuracy: 0.8246\n",
            "Epoch 89/100\n",
            "177/177 [==============================] - 1s 3ms/step - loss: 0.3651 - Accuracy: 0.8252\n",
            "Epoch 90/100\n",
            "177/177 [==============================] - 1s 3ms/step - loss: 0.3712 - Accuracy: 0.8220\n",
            "Epoch 91/100\n",
            "177/177 [==============================] - 1s 3ms/step - loss: 0.3684 - Accuracy: 0.8182\n",
            "Epoch 92/100\n",
            "177/177 [==============================] - 1s 4ms/step - loss: 0.3695 - Accuracy: 0.8181\n",
            "Epoch 93/100\n",
            "177/177 [==============================] - 1s 5ms/step - loss: 0.3690 - Accuracy: 0.8161\n",
            "Epoch 94/100\n",
            "177/177 [==============================] - 1s 5ms/step - loss: 0.3667 - Accuracy: 0.8220\n",
            "Epoch 95/100\n",
            "177/177 [==============================] - 1s 5ms/step - loss: 0.3698 - Accuracy: 0.8202\n",
            "Epoch 96/100\n",
            "177/177 [==============================] - 1s 4ms/step - loss: 0.3635 - Accuracy: 0.8227\n",
            "Epoch 97/100\n",
            "177/177 [==============================] - 1s 5ms/step - loss: 0.3621 - Accuracy: 0.8262\n",
            "Epoch 98/100\n",
            "177/177 [==============================] - 1s 3ms/step - loss: 0.3642 - Accuracy: 0.8230\n",
            "Epoch 99/100\n",
            "177/177 [==============================] - 1s 3ms/step - loss: 0.3608 - Accuracy: 0.8214\n",
            "Epoch 100/100\n",
            "177/177 [==============================] - 1s 4ms/step - loss: 0.3623 - Accuracy: 0.8255\n"
          ]
        },
        {
          "output_type": "execute_result",
          "data": {
            "text/plain": [
              "<keras.callbacks.History at 0x7f07003f37f0>"
            ]
          },
          "metadata": {},
          "execution_count": 162
        }
      ]
    },
    {
      "cell_type": "code",
      "source": [
        "model.evaluate(xtest,ytest)"
      ],
      "metadata": {
        "colab": {
          "base_uri": "https://localhost:8080/"
        },
        "id": "7_g8yMi9xdxv",
        "outputId": "6a8448ff-a9d0-4347-d514-ae3cb06efe03"
      },
      "execution_count": null,
      "outputs": [
        {
          "output_type": "stream",
          "name": "stdout",
          "text": [
            "45/45 [==============================] - 0s 2ms/step - loss: 0.5495 - Accuracy: 0.7921\n"
          ]
        },
        {
          "output_type": "execute_result",
          "data": {
            "text/plain": [
              "[0.5495285987854004, 0.7920510768890381]"
            ]
          },
          "metadata": {},
          "execution_count": 163
        }
      ]
    },
    {
      "cell_type": "code",
      "source": [
        "ypred = model.predict(xtest)"
      ],
      "metadata": {
        "colab": {
          "base_uri": "https://localhost:8080/"
        },
        "id": "0x3DNNS71UxQ",
        "outputId": "82c67c2b-84ee-43ee-e647-c90e66ef66c6"
      },
      "execution_count": null,
      "outputs": [
        {
          "output_type": "stream",
          "name": "stdout",
          "text": [
            "45/45 [==============================] - 0s 1ms/step\n"
          ]
        }
      ]
    },
    {
      "cell_type": "code",
      "source": [
        "np.round(model.predict(xtest)[:10].reshape(-1))"
      ],
      "metadata": {
        "colab": {
          "base_uri": "https://localhost:8080/"
        },
        "id": "JjYp8tJV0VVn",
        "outputId": "bcc43358-b037-4068-a7dd-605352ba1ff4"
      },
      "execution_count": null,
      "outputs": [
        {
          "output_type": "stream",
          "name": "stdout",
          "text": [
            "45/45 [==============================] - 0s 2ms/step\n"
          ]
        },
        {
          "output_type": "execute_result",
          "data": {
            "text/plain": [
              "array([0., 0., 0., 0., 1., 1., 1., 0., 0., 1.], dtype=float32)"
            ]
          },
          "metadata": {},
          "execution_count": 165
        }
      ]
    },
    {
      "cell_type": "code",
      "source": [
        "ytest[:10]"
      ],
      "metadata": {
        "colab": {
          "base_uri": "https://localhost:8080/"
        },
        "id": "bDlk6vN90fhH",
        "outputId": "97f0d2f8-1a2b-4c68-f3cb-9eea4b3f1888"
      },
      "execution_count": null,
      "outputs": [
        {
          "output_type": "execute_result",
          "data": {
            "text/plain": [
              "3309    0\n",
              "321     0\n",
              "3289    0\n",
              "4187    0\n",
              "1675    1\n",
              "6048    1\n",
              "1185    1\n",
              "6343    0\n",
              "5553    1\n",
              "6066    1\n",
              "Name: Churn, dtype: int64"
            ]
          },
          "metadata": {},
          "execution_count": 166
        }
      ]
    },
    {
      "cell_type": "code",
      "source": [
        "from sklearn.metrics import confusion_matrix , classification_report\n",
        "cm = confusion_matrix(ytest,np.round(ypred))"
      ],
      "metadata": {
        "id": "WhquFpQA03ZH"
      },
      "execution_count": null,
      "outputs": []
    },
    {
      "cell_type": "code",
      "source": [
        "import seaborn as sns\n",
        "sns.heatmap(cm,annot=True,fmt= 'd')"
      ],
      "metadata": {
        "colab": {
          "base_uri": "https://localhost:8080/",
          "height": 448
        },
        "id": "1rDcCJBl1ZYm",
        "outputId": "c70fe521-3dcf-444d-bf1b-0d83b4867cec"
      },
      "execution_count": null,
      "outputs": [
        {
          "output_type": "execute_result",
          "data": {
            "text/plain": [
              "<Axes: >"
            ]
          },
          "metadata": {},
          "execution_count": 168
        },
        {
          "output_type": "display_data",
          "data": {
            "text/plain": [
              "<Figure size 640x480 with 2 Axes>"
            ],
            "image/png": "[encoded data removed]"
          },
          "metadata": {}
        }
      ]
    },
    {
      "cell_type": "code",
      "source": [
        "print(classification_report(ytest,np.round(ypred)))"
      ],
      "metadata": {
        "colab": {
          "base_uri": "https://localhost:8080/"
        },
        "id": "DR7aJDdY2Kjm",
        "outputId": "29b537d1-fcd5-4a4a-a93e-88af52c6e361"
      },
      "execution_count": null,
      "outputs": [
        {
          "output_type": "stream",
          "name": "stdout",
          "text": [
            "              precision    recall  f1-score   support\n",
            "\n",
            "           0       0.86      0.83      0.84      1063\n",
            "           1       0.52      0.58      0.55       346\n",
            "\n",
            "    accuracy                           0.77      1409\n",
            "   macro avg       0.69      0.70      0.70      1409\n",
            "weighted avg       0.78      0.77      0.77      1409\n",
            "\n"
          ]
        }
      ]
    }
  ]
}
